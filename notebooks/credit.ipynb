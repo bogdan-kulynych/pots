{
 "cells": [
  {
   "cell_type": "code",
   "execution_count": 6,
   "metadata": {},
   "outputs": [
    {
     "name": "stdout",
     "output_type": "stream",
     "text": [
      "The autoreload extension is already loaded. To reload it, use:\n",
      "  %reload_ext autoreload\n"
     ]
    }
   ],
   "source": [
    "%load_ext  autoreload\n",
    "%autoreload 2"
   ]
  },
  {
   "cell_type": "code",
   "execution_count": 7,
   "metadata": {},
   "outputs": [],
   "source": [
    "import sys\n",
    "sys.path.append('..')"
   ]
  },
  {
   "cell_type": "code",
   "execution_count": 10,
   "metadata": {},
   "outputs": [],
   "source": [
    "import numpy as np\n",
    "import pandas as pd\n",
    "\n",
    "from sklearn.utils import shuffle\n",
    "from sklearn.model_selection import train_test_split, GridSearchCV\n",
    "from sklearn.linear_model import LogisticRegressionCV\n",
    "from sklearn.svm import SVC\n",
    "from scipy.spatial import distance\n",
    "from tqdm import tqdm_notebook\n",
    "from matplotlib import pyplot as plt\n",
    "\n",
    "seed = 1"
   ]
  },
  {
   "cell_type": "code",
   "execution_count": 13,
   "metadata": {},
   "outputs": [],
   "source": [
    "# import jtplot module in notebook\n",
    "from jupyterthemes import jtplot\n",
    "\n",
    "# choose which theme to inherit plotting style from\n",
    "# onedork | grade3 | oceans16 | chesterish | monokai | solarizedl | solarizedd\n",
    "jtplot.style(theme='oceans16', grid=False, ticks=False, spines=False, context='poster')\n",
    "# jtplot.style(ticks=True, grid=True, gridlines='--')\n",
    "\n",
    "# jtplot.reset()\n"
   ]
  },
  {
   "cell_type": "code",
   "execution_count": 14,
   "metadata": {},
   "outputs": [
    {
     "name": "stdout",
     "output_type": "stream",
     "text": [
      "Examples are represented as 38-dimensional vectors.\n"
     ]
    }
   ],
   "source": [
    "# Load the file\n",
    "df = pd.read_csv('../data/german_credit_data.csv')\n",
    "df = df.drop(df.columns[0], axis=1) # remove the index column\n",
    "\n",
    "# Quantize credit amount, duration and age into 5 bins\n",
    "amount_series = df.loc[:, 'Credit amount']\n",
    "df.loc[:, 'Credit amount'] = pd.qcut(amount_series, 5)\n",
    "\n",
    "duration_series = df.loc[:, 'Duration']\n",
    "df.loc[:, 'Duration'] = pd.qcut(duration_series, 5)\n",
    "\n",
    "duration_series = df.loc[:, 'Age']\n",
    "df.loc[:, 'Age'] = pd.qcut(duration_series, 5)\n",
    "\n",
    "# Set Job type to object for one-hot encoding\n",
    "df.loc[:, 'Job'] = df.loc[:, 'Job'].astype(object)\n",
    "\n",
    "# Perform one-hot encoding\n",
    "df = pd.get_dummies(df)\n",
    "# Drop binary features\n",
    "df = df.drop(columns=['Sex_male', 'Risk_bad'])\n",
    "\n",
    "# Separate features from targets\n",
    "df_X = df.iloc[:, :-1]\n",
    "df_y = df.iloc[:, -1]\n",
    "\n",
    "print('Examples are represented as {}-dimensional vectors.'.format(df_X.shape[1]))"
   ]
  },
  {
   "cell_type": "code",
   "execution_count": 15,
   "metadata": {},
   "outputs": [
    {
     "name": "stdout",
     "output_type": "stream",
     "text": [
      "Shape of X: (1000, 38). Shape of y: (1000,).\n"
     ]
    },
    {
     "data": {
      "text/plain": [
       "((900, 38), (900,), (100, 38), (100,))"
      ]
     },
     "execution_count": 15,
     "metadata": {},
     "output_type": "execute_result"
    }
   ],
   "source": [
    "# Convert to numpy\n",
    "X = df_X.values.astype('int8')\n",
    "y = df_y.values.astype('int8')\n",
    "print('Shape of X: {}. Shape of y: {}.'.format(X.shape, y.shape))\n",
    "\n",
    "# Split into training and test sets\n",
    "X_train, X_test, y_train, y_test = train_test_split(X, y, test_size=0.1, random_state=seed)\n",
    "X_train.shape, y_train.shape, X_test.shape, y_test.shape"
   ]
  },
  {
   "cell_type": "code",
   "execution_count": 16,
   "metadata": {},
   "outputs": [
    {
     "name": "stdout",
     "output_type": "stream",
     "text": [
      "Best score is: 73.89%. Best C is: 1.0000.\n",
      "Test score is: 73.00%.\n"
     ]
    }
   ],
   "source": [
    "# Fit logistic regression and perform CV\n",
    "clf = LogisticRegressionCV(\n",
    "    Cs=21, \n",
    "    cv=5, \n",
    "    n_jobs=-1, \n",
    "    random_state=seed\n",
    ")\n",
    "clf.fit(X_train, y_train)\n",
    "\n",
    "# Get best score and C value\n",
    "mean_scores = np.mean(clf.scores_[1], axis=0)\n",
    "best_idx = np.argmax(mean_scores)\n",
    "best_score = mean_scores[best_idx]\n",
    "best_C = clf.Cs_[best_idx]\n",
    "\n",
    "print('Best score is: {:.2f}%. Best C is: {:.4f}.'.format(best_score*100, best_C))\n",
    "print('Test score is: {:.2f}%.'.format(clf.score(X_test, y_test)*100))\n",
    "\n",
    "# Best score is: 73.44%. Best C is: 0.1585.\n",
    "# Test score is: 71.000%."
   ]
  },
  {
   "cell_type": "code",
   "execution_count": 23,
   "metadata": {},
   "outputs": [],
   "source": [
    "class TransformationWrapper(object):\n",
    "    amount_start_idx = df_X.columns.get_loc(\"Credit amount_(249.999, 1262.0]\")\n",
    "    duration_start_idx = df_X.columns.get_loc(\"Duration_(3.999, 12.0]\")\n",
    "    purpose_start_idx = df_X.columns.get_loc(\"Purpose_business\")\n",
    "    \n",
    "    def __init__(self, x, decrease_amount=True, decrease_duration=True):\n",
    "        self.root = x\n",
    "        self.decrease_amount = decrease_amount\n",
    "        self.decrease_duration = decrease_duration\n",
    "        \n",
    "        # Slices in the vector for each features\n",
    "        self.static = self.root[:TransformationWrapper.amount_start_idx]\n",
    "        self.amount = self.root[TransformationWrapper.amount_start_idx:TransformationWrapper.duration_start_idx]\n",
    "        self.duration = self.root[TransformationWrapper.duration_start_idx:TransformationWrapper.purpose_start_idx]\n",
    "        self.purpose = self.root[TransformationWrapper.purpose_start_idx:]\n",
    "    \n",
    "    def _get_neighbour(self, x, direction='pos'):\n",
    "        \"\"\"Get the neighbouring value in a quantized one-hot feature vector.\"\"\"\n",
    "        idx = np.argmax(x)\n",
    "        if direction == 'pos' and idx != len(x) - 1:\n",
    "            return np.roll(x, 1).tolist()\n",
    "        elif direction == 'neg' and idx != 0:\n",
    "            return np.roll(x, -1).tolist()\n",
    "        return []\n",
    "\n",
    "    def _expand_neighbours(self, field, directions=None):\n",
    "        \"\"\"Expand neighbouring values of a quantized feature.\"\"\"\n",
    "        if directions is None:\n",
    "            directions = ['pos', 'neg']\n",
    "            \n",
    "        child_fields = []\n",
    "        for direction in directions:\n",
    "            child_fields.append(self._get_neighbour(field, direction=direction))\n",
    "\n",
    "        child_fields = [x for x in child_fields if len(x) > 0]\n",
    "        return np.array(child_fields, dtype='uint8')\n",
    "    \n",
    "    def _expand_all(self, field):\n",
    "        \"\"\"Expand all values of a categorical feature.\"\"\"\n",
    "        child_fields = []\n",
    "        for i in range(1, len(field)):\n",
    "            child_fields.append(np.roll(field, i))\n",
    "        return child_fields\n",
    "\n",
    "    def expand(self):\n",
    "        \"\"\"Generate new transformation.\"\"\"\n",
    "        \n",
    "        children = []\n",
    "        \n",
    "        # Expand \"credit amount\".\n",
    "        for c in self._expand_neighbours(\n",
    "                self.amount,\n",
    "                directions=['pos', 'neg'] if self.decrease_amount else ['pos']):\n",
    "            child = np.concatenate((self.static, c, self.duration, self.purpose))\n",
    "            children.append(child)\n",
    "        \n",
    "        # Expand \"duration\".\n",
    "        for c in self._expand_neighbours(\n",
    "                self.duration,\n",
    "                directions=['pos', 'neg'] if self.decrease_duration else ['pos']):\n",
    "            child = np.concatenate((self.static, self.amount, c, self.purpose))\n",
    "            children.append(child)\n",
    "        \n",
    "        # Expand \"purpose\".\n",
    "        for c in self._expand_all(self.purpose):\n",
    "            child = np.concatenate((self.static, self.amount, self.duration, c))\n",
    "            children.append(child)\n",
    "        return children\n",
    "    \n",
    "    def __repr__(self):\n",
    "        return 'TransformationWrapper({})'.format(self.root)"
   ]
  },
  {
   "cell_type": "code",
   "execution_count": 24,
   "metadata": {},
   "outputs": [],
   "source": [
    "def hash_fn(example):\n",
    "    return hash(str(example))\n",
    "\n",
    "def generate_all_transformations(initial_example, transformation_kwargs=None):\n",
    "    if transformation_kwargs is None:\n",
    "        transformation_kwargs = {}\n",
    "\n",
    "    result = []\n",
    "    closed = set()\n",
    "    \n",
    "    queue = [initial_example]\n",
    "    while queue:\n",
    "        current_example = queue.pop()            \n",
    "        current_example_wrapped = TransformationWrapper(\n",
    "            current_example, **transformation_kwargs)\n",
    "        for next_example in current_example_wrapped.expand(): \n",
    "            h = hash_fn(next_example)\n",
    "            if h not in closed:\n",
    "                closed.add(h)\n",
    "                queue.insert(0, next_example)\n",
    "                result.append(next_example)\n",
    "            \n",
    "    return result"
   ]
  },
  {
   "cell_type": "code",
   "execution_count": 40,
   "metadata": {},
   "outputs": [
    {
     "data": {
      "text/plain": [
       "array([[0, 0, 0, ..., 1, 0, 0],\n",
       "       [0, 0, 0, ..., 1, 0, 0],\n",
       "       [0, 0, 0, ..., 0, 1, 0],\n",
       "       ...,\n",
       "       [0, 0, 0, ..., 0, 0, 1],\n",
       "       [0, 0, 0, ..., 0, 0, 0],\n",
       "       [0, 0, 0, ..., 0, 0, 0]], dtype=int16)"
      ]
     },
     "execution_count": 40,
     "metadata": {},
     "output_type": "execute_result"
    }
   ],
   "source": [
    "def get_adversarial_transformations(clf, example, target_class=1):\n",
    "    assert clf.predict([example])[0] != target_class\n",
    "    transformations = np.array(generate_all_transformations(initial_example))\n",
    "    classes = clf.predict(transformations)\n",
    "    adv_transformations = transformations[classes == target_class]\n",
    "    return adv_transformations\n",
    "\n"
   ]
  },
  {
   "cell_type": "code",
   "execution_count": 49,
   "metadata": {},
   "outputs": [
    {
     "data": {
      "text/plain": [
       "array([10., 10., 12., 12., 12., 12., 12., 12., 12., 10., 10., 10., 12.,\n",
       "       12., 12., 12., 12., 12., 12., 10., 12., 12., 12., 12., 12., 12.,\n",
       "       12., 10., 10., 12., 12., 12., 12., 12., 12., 12., 10., 12., 12.,\n",
       "       12., 12., 12., 12., 12., 10., 12., 12., 12., 12., 12., 12.,  8.,\n",
       "       10., 12., 12., 12., 12., 12., 12., 12., 10., 12., 12., 12., 12.,\n",
       "       12., 12., 12., 10., 12., 12., 12., 12., 12., 12., 12.,  8., 12.,\n",
       "       12., 12., 12., 12., 12.,  8., 10., 10., 10., 10., 10., 10., 10.,\n",
       "       10., 12., 12., 12., 12., 12., 12., 12., 10., 12., 12., 12., 12.,\n",
       "       12., 12., 12.,  8., 12., 12., 12., 12., 12., 12., 12., 10., 10.,\n",
       "        8., 10., 10., 10., 10., 10., 10., 10., 10., 12., 12., 12., 12.,\n",
       "       12., 12., 12.,  8., 12., 12., 12., 12., 12., 12., 12., 10., 10.,\n",
       "       10., 10., 10.,  8., 10., 10., 10., 10., 10., 10., 10.,  8., 12.,\n",
       "       12., 12., 12., 12., 12., 12., 10., 10., 10., 10., 10., 10.,  6.,\n",
       "       10., 10., 10., 10., 10., 10., 10., 10., 10., 10., 10., 10., 10.,\n",
       "       10.,  8.,  8.,  8.])"
      ]
     },
     "execution_count": 49,
     "metadata": {},
     "output_type": "execute_result"
    }
   ],
   "source": [
    "def cost_fn(initial_example, examples):\n",
    "    return np.linalg.norm(examples - initial_example, ord=1, axis=1)\n",
    "\n",
    "example = X[1]\n",
    "transformations = get_adversarial_transformations(clf, example)\n",
    "cost_fn(example, transformations)"
   ]
  },
  {
   "cell_type": "code",
   "execution_count": 50,
   "metadata": {},
   "outputs": [],
   "source": [
    "def performance_metric_fn(initial_example, examples, target_class=1):\n",
    "    initial_confidence = clf.predict_proba(initial_example)[0, target_class]\n",
    "    confidences = clf.predict_proba(examples)[:, target_class]\n",
    "    return confidences - initial_confidence"
   ]
  },
  {
   "cell_type": "code",
   "execution_count": null,
   "metadata": {},
   "outputs": [],
   "source": [
    "performance_metric_fn(initial_example, )"
   ]
  }
 ],
 "metadata": {
  "kernelspec": {
   "display_name": "Python 3",
   "language": "python",
   "name": "python3"
  },
  "language_info": {
   "codemirror_mode": {
    "name": "ipython",
    "version": 3
   },
   "file_extension": ".py",
   "mimetype": "text/x-python",
   "name": "python",
   "nbconvert_exporter": "python",
   "pygments_lexer": "ipython3",
   "version": "3.5.2"
  }
 },
 "nbformat": 4,
 "nbformat_minor": 2
}
