{
 "cells": [
  {
   "cell_type": "code",
   "execution_count": 1,
   "metadata": {},
   "outputs": [],
   "source": [
    "%load_ext  autoreload\n",
    "%autoreload 2"
   ]
  },
  {
   "cell_type": "code",
   "execution_count": 2,
   "metadata": {},
   "outputs": [],
   "source": [
    "import sys\n",
    "sys.path.append('..')"
   ]
  },
  {
   "cell_type": "code",
   "execution_count": 3,
   "metadata": {},
   "outputs": [
    {
     "name": "stderr",
     "output_type": "stream",
     "text": [
      "/usr/lib/python3.6/importlib/_bootstrap.py:219: RuntimeWarning: numpy.dtype size changed, may indicate binary incompatibility. Expected 96, got 88\n",
      "  return f(*args, **kwds)\n",
      "/usr/lib/python3.6/importlib/_bootstrap.py:219: RuntimeWarning: numpy.dtype size changed, may indicate binary incompatibility. Expected 96, got 88\n",
      "  return f(*args, **kwds)\n"
     ]
    }
   ],
   "source": [
    "import numpy as np\n",
    "import pandas as pd\n",
    "import seaborn as sns\n",
    "\n",
    "from sklearn.utils import shuffle\n",
    "from sklearn.model_selection import train_test_split, GridSearchCV, StratifiedKFold\n",
    "from sklearn.linear_model import LogisticRegressionCV\n",
    "from sklearn.svm import SVC\n",
    "from xgboost import XGBClassifier\n",
    "from scipy.spatial import distance\n",
    "from tqdm import tqdm_notebook\n",
    "from matplotlib import pyplot as plt\n",
    "\n",
    "seed = 1"
   ]
  },
  {
   "cell_type": "code",
   "execution_count": 4,
   "metadata": {},
   "outputs": [],
   "source": [
    "import warnings\n",
    "warnings.filterwarnings('ignore')"
   ]
  },
  {
   "cell_type": "code",
   "execution_count": 5,
   "metadata": {},
   "outputs": [],
   "source": [
    "sns.set_context(\"paper\")"
   ]
  },
  {
   "cell_type": "code",
   "execution_count": 6,
   "metadata": {},
   "outputs": [
    {
     "name": "stdout",
     "output_type": "stream",
     "text": [
      "Examples are represented as 38-dimensional vectors.\n"
     ]
    }
   ],
   "source": [
    "# Load the file\n",
    "df = pd.read_csv('../data/german_credit_data.csv')\n",
    "df = df.drop(df.columns[0], axis=1) # remove the index column\n",
    "\n",
    "# Quantize credit amount, duration and age into 5 bins\n",
    "amount_series = df.loc[:, 'Credit amount']\n",
    "df.loc[:, 'Credit amount'] = pd.qcut(amount_series, 5)\n",
    "\n",
    "duration_series = df.loc[:, 'Duration']\n",
    "df.loc[:, 'Duration'] = pd.qcut(duration_series, 5)\n",
    "\n",
    "duration_series = df.loc[:, 'Age']\n",
    "df.loc[:, 'Age'] = pd.qcut(duration_series, 5)\n",
    "\n",
    "# Set Job type to object for one-hot encoding\n",
    "df.loc[:, 'Job'] = df.loc[:, 'Job'].astype(object)\n",
    "\n",
    "# Perform one-hot encoding\n",
    "df = pd.get_dummies(df)\n",
    "# Drop binary features\n",
    "df = df.drop(columns=['Sex_male', 'Risk_bad'])\n",
    "\n",
    "# Separate features from targets\n",
    "df_X = df.iloc[:, :-1]\n",
    "df_y = df.iloc[:, -1]\n",
    "\n",
    "print('Examples are represented as {}-dimensional vectors.'.format(df_X.shape[1]))"
   ]
  },
  {
   "cell_type": "code",
   "execution_count": 7,
   "metadata": {},
   "outputs": [
    {
     "name": "stdout",
     "output_type": "stream",
     "text": [
      "Shape of X: (1000, 38). Shape of y: (1000,).\n"
     ]
    },
    {
     "data": {
      "text/plain": [
       "((900, 38), (900,), (100, 38), (100,))"
      ]
     },
     "execution_count": 7,
     "metadata": {},
     "output_type": "execute_result"
    }
   ],
   "source": [
    "# Convert to numpy\n",
    "X = df_X.values.astype('int8')\n",
    "y = df_y.values.astype('int8')\n",
    "print('Shape of X: {}. Shape of y: {}.'.format(X.shape, y.shape))\n",
    "\n",
    "# Split into training and test sets\n",
    "X_train, X_test, y_train, y_test = train_test_split(X, y, test_size=0.1, random_state=seed)\n",
    "X_train.shape, y_train.shape, X_test.shape, y_test.shape"
   ]
  },
  {
   "cell_type": "markdown",
   "metadata": {},
   "source": [
    "### XGBoost baseline"
   ]
  },
  {
   "cell_type": "code",
   "execution_count": 8,
   "metadata": {},
   "outputs": [
    {
     "data": {
      "text/plain": [
       "76.0"
      ]
     },
     "execution_count": 8,
     "metadata": {},
     "output_type": "execute_result"
    }
   ],
   "source": [
    "clf = XGBClassifier()\n",
    "clf.fit(X_train, y_train)\n",
    "\n",
    "clf.score(X_test, y_test)*100"
   ]
  },
  {
   "cell_type": "markdown",
   "metadata": {},
   "source": [
    "### Logistic regression"
   ]
  },
  {
   "cell_type": "code",
   "execution_count": 9,
   "metadata": {},
   "outputs": [
    {
     "name": "stdout",
     "output_type": "stream",
     "text": [
      "Best score is: 73.56%. Best C is: 0.3594.\n",
      "Test score is: 73.00%.\n"
     ]
    }
   ],
   "source": [
    "# Fit logistic regression and perform CV\n",
    "clf = LogisticRegressionCV(\n",
    "    cv=5, \n",
    "    n_jobs=-1, \n",
    "    random_state=seed\n",
    ")\n",
    "clf.fit(X_train, y_train)\n",
    "\n",
    "# Get best score and C value\n",
    "mean_scores = np.mean(clf.scores_[1], axis=0)\n",
    "best_idx = np.argmax(mean_scores)\n",
    "best_score = mean_scores[best_idx]\n",
    "best_C = clf.Cs_[best_idx]\n",
    "\n",
    "print('Best score is: {:.2f}%. Best C is: {:.4f}.'.format(best_score*100, best_C))\n",
    "print('Test score is: {:.2f}%.'.format(clf.score(X_test, y_test)*100))"
   ]
  },
  {
   "cell_type": "markdown",
   "metadata": {},
   "source": [
    "### SVM"
   ]
  },
  {
   "cell_type": "code",
   "execution_count": 10,
   "metadata": {},
   "outputs": [
    {
     "name": "stdout",
     "output_type": "stream",
     "text": [
      "Best score is: 74.22%. Best params is: {'C': 10, 'kernel': 'rbf'}.\n",
      "Test score is: 77.00%.\n"
     ]
    }
   ],
   "source": [
    "params = {\n",
    "    'kernel': ('linear', 'rbf'),\n",
    "    'C': [9, 10, 11],\n",
    "}\n",
    "\n",
    "svc = SVC(probability=True)\n",
    "clf = GridSearchCV(svc, params, cv=5)\n",
    "clf.fit(X_train, y_train)\n",
    "\n",
    "print('Best score is: {:.2f}%. Best params is: {}.'.format(\n",
    "    clf.best_score_*100, clf.best_params_))\n",
    "print('Test score is: {:.2f}%.'.format(\n",
    "    clf.score(X_test, y_test)*100))"
   ]
  },
  {
   "cell_type": "code",
   "execution_count": 11,
   "metadata": {},
   "outputs": [],
   "source": [
    "class TransformationWrapper(object):\n",
    "    amount_start_idx = df_X.columns.get_loc(\"Credit amount_(249.999, 1262.0]\")\n",
    "    duration_start_idx = df_X.columns.get_loc(\"Duration_(3.999, 12.0]\")\n",
    "    purpose_start_idx = df_X.columns.get_loc(\"Purpose_business\")\n",
    "    \n",
    "    def __init__(self, x, decrease_amount=False, decrease_duration=True):\n",
    "        self.root = x\n",
    "        self.decrease_amount = decrease_amount\n",
    "        self.decrease_duration = decrease_duration\n",
    "        \n",
    "        # Slices in the vector for each features\n",
    "        self.static = self.root[:TransformationWrapper.amount_start_idx]\n",
    "        self.amount = self.root[TransformationWrapper.amount_start_idx:TransformationWrapper.duration_start_idx]\n",
    "        self.duration = self.root[TransformationWrapper.duration_start_idx:TransformationWrapper.purpose_start_idx]\n",
    "        self.purpose = self.root[TransformationWrapper.purpose_start_idx:]\n",
    "    \n",
    "    def _get_neighbour(self, x, direction='pos'):\n",
    "        \"\"\"Get the neighbouring value in a quantized one-hot feature vector.\"\"\"\n",
    "        idx = np.argmax(x)\n",
    "        if direction == 'pos' and idx != len(x) - 1:\n",
    "            return np.roll(x, 1).tolist()\n",
    "        elif direction == 'neg' and idx != 0:\n",
    "            return np.roll(x, -1).tolist()\n",
    "        return []\n",
    "\n",
    "    def _expand_neighbours(self, field, directions=None):\n",
    "        \"\"\"Expand neighbouring values of a quantized feature.\"\"\"\n",
    "        if directions is None:\n",
    "            directions = ['pos', 'neg']\n",
    "            \n",
    "        child_fields = []\n",
    "        for direction in directions:\n",
    "            child_fields.append(self._get_neighbour(field, direction=direction))\n",
    "\n",
    "        child_fields = [x for x in child_fields if len(x) > 0]\n",
    "        return np.array(child_fields, dtype='uint8')\n",
    "    \n",
    "    def _expand_all(self, field):\n",
    "        \"\"\"Expand all values of a categorical feature.\"\"\"\n",
    "        child_fields = []\n",
    "        for i in range(1, len(field)):\n",
    "            child_fields.append(np.roll(field, i))\n",
    "        return child_fields\n",
    "\n",
    "    def expand(self):\n",
    "        \"\"\"Generate new transformation.\"\"\"\n",
    "        \n",
    "        children = []\n",
    "        \n",
    "        # Expand \"credit amount\".\n",
    "        for c in self._expand_neighbours(\n",
    "                self.amount,\n",
    "                directions=['pos', 'neg'] if self.decrease_amount else ['pos']):\n",
    "            child = np.concatenate((self.static, c, self.duration, self.purpose))\n",
    "            children.append(child)\n",
    "        \n",
    "        # Expand \"duration\".\n",
    "        for c in self._expand_neighbours(\n",
    "                self.duration,\n",
    "                directions=['pos', 'neg'] if self.decrease_duration else ['pos']):\n",
    "            child = np.concatenate((self.static, self.amount, c, self.purpose))\n",
    "            children.append(child)\n",
    "        \n",
    "        # Expand \"purpose\".\n",
    "        for c in self._expand_all(self.purpose):\n",
    "            child = np.concatenate((self.static, self.amount, self.duration, c))\n",
    "            children.append(child)\n",
    "        return children\n",
    "    \n",
    "    def __repr__(self):\n",
    "        return 'TransformationWrapper({})'.format(self.root)"
   ]
  },
  {
   "cell_type": "markdown",
   "metadata": {},
   "source": [
    "# Adversarial test examples"
   ]
  },
  {
   "cell_type": "code",
   "execution_count": 12,
   "metadata": {},
   "outputs": [],
   "source": [
    "def hash_fn(example):\n",
    "    return hash(str(example))\n",
    "\n",
    "def generate_all_transformations(initial_example, transformation_kwargs=None):\n",
    "    if transformation_kwargs is None:\n",
    "        transformation_kwargs = {}\n",
    "\n",
    "    result = []\n",
    "    closed = set()\n",
    "    \n",
    "    queue = [initial_example]\n",
    "    while queue:\n",
    "        current_example = queue.pop()            \n",
    "        current_example_wrapped = TransformationWrapper(\n",
    "            current_example, **transformation_kwargs)\n",
    "        for next_example in current_example_wrapped.expand(): \n",
    "            h = hash_fn(next_example)\n",
    "            if h not in closed:\n",
    "                closed.add(h)\n",
    "                queue.insert(0, next_example)\n",
    "                result.append(next_example)\n",
    "            \n",
    "    return result"
   ]
  },
  {
   "cell_type": "code",
   "execution_count": 13,
   "metadata": {},
   "outputs": [],
   "source": [
    "def get_adversarial_transformations(clf, initial_example, target_class=1):\n",
    "    assert clf.predict([example])[0] != target_class\n",
    "    transformations = np.array(generate_all_transformations(initial_example))\n",
    "    classes = clf.predict(transformations)\n",
    "    adv_transformations = transformations[classes == target_class]\n",
    "    return adv_transformations"
   ]
  },
  {
   "cell_type": "code",
   "execution_count": 14,
   "metadata": {},
   "outputs": [
    {
     "data": {
      "text/plain": [
       "array([1., 1., 2., 1., 2., 2., 2., 2., 1., 2., 2., 2., 2., 2., 2., 2., 2.,\n",
       "       2., 2.])"
      ]
     },
     "execution_count": 14,
     "metadata": {},
     "output_type": "execute_result"
    }
   ],
   "source": [
    "def cost_fn(initial_example, examples):\n",
    "    return np.linalg.norm(examples - initial_example, ord=1, axis=1) / 2\n",
    "\n",
    "example = X[1]\n",
    "transformations = get_adversarial_transformations(clf, example)\n",
    "cost_fn(example, transformations)"
   ]
  },
  {
   "cell_type": "code",
   "execution_count": 15,
   "metadata": {},
   "outputs": [],
   "source": [
    "def confidence_increase(initial_example, examples, target_class=1):\n",
    "    \"\"\"increase in confidence for 'accept' decision\"\"\"\n",
    "    initial_confidence = clf.predict_proba([initial_example])[0, target_class]\n",
    "    confidences = clf.predict_proba(examples)[:, target_class]\n",
    "    return confidences - initial_confidence\n",
    "\n",
    "def amount_increase(initial_example, examples, target_class=1):\n",
    "    \"\"\"increase in loan amount (bins)\"\"\"\n",
    "    initial_amount = np.argmax(TransformationWrapper(initial_example).amount) + 1\n",
    "    result = []\n",
    "    for example in examples:\n",
    "        wrapped_example = TransformationWrapper(example)\n",
    "        amount = np.argmax(wrapped_example.amount) + 1\n",
    "        increase = amount - initial_amount\n",
    "        result.append(increase)\n",
    "    return np.array(result)\n",
    "          \n",
    "# Alternative --- increase amount.\n",
    "performance_metric_fn = amount_increase"
   ]
  },
  {
   "cell_type": "code",
   "execution_count": 16,
   "metadata": {},
   "outputs": [],
   "source": [
    "initial_example = X_test[10]\n",
    "perfs = performance_metric_fn(\n",
    "    initial_example,\n",
    "    get_adversarial_transformations(clf, initial_example))"
   ]
  },
  {
   "cell_type": "code",
   "execution_count": 17,
   "metadata": {},
   "outputs": [
    {
     "data": {
      "application/vnd.jupyter.widget-view+json": {
       "model_id": "8a0f40301b374e888eda5832f7364e66",
       "version_major": 2,
       "version_minor": 0
      },
      "text/plain": [
       "HBox(children=(IntProgress(value=0, max=1000), HTML(value='')))"
      ]
     },
     "metadata": {},
     "output_type": "display_data"
    },
    {
     "name": "stdout",
     "output_type": "stream",
     "text": [
      "\n"
     ]
    }
   ],
   "source": [
    "target_class = 1\n",
    "transformations_by_idx = {}\n",
    "for i, x in enumerate(tqdm_notebook(X)):\n",
    "    if clf.predict([x])[0] != target_class:\n",
    "        transformations = get_adversarial_transformations(clf, x)\n",
    "        transformations_by_idx[i] = transformations"
   ]
  },
  {
   "cell_type": "markdown",
   "metadata": {},
   "source": [
    "Proportion of adversarial examples successfully found:"
   ]
  },
  {
   "cell_type": "code",
   "execution_count": 18,
   "metadata": {},
   "outputs": [
    {
     "data": {
      "text/plain": [
       "1.0"
      ]
     },
     "execution_count": 18,
     "metadata": {},
     "output_type": "execute_result"
    }
   ],
   "source": [
    "np.mean([len(ts) > 0 for ts in transformations_by_idx.values()])"
   ]
  },
  {
   "cell_type": "markdown",
   "metadata": {},
   "source": [
    "## Plot all adversarial examples\n",
    "\n",
    "That is, all transformations that change the decision of the classifier."
   ]
  },
  {
   "cell_type": "code",
   "execution_count": 19,
   "metadata": {},
   "outputs": [
    {
     "data": {
      "application/vnd.jupyter.widget-view+json": {
       "model_id": "9c8be9585336479dbc4071976eaab394",
       "version_major": 2,
       "version_minor": 0
      },
      "text/plain": [
       "HBox(children=(IntProgress(value=0, max=180), HTML(value='')))"
      ]
     },
     "metadata": {},
     "output_type": "display_data"
    },
    {
     "name": "stdout",
     "output_type": "stream",
     "text": [
      "\n"
     ]
    }
   ],
   "source": [
    "trans_data_df = pd.DataFrame(columns=['initial', 'cost', 'perf'])\n",
    "for i, ts in tqdm_notebook(transformations_by_idx.items()):\n",
    "    cs = cost_fn(X[i], ts)\n",
    "    ps = performance_metric_fn(X[i], ts)\n",
    "    trans_data_df = trans_data_df.append(\n",
    "        {'initial': i, 'cost': 0., 'perf': 0.}, ignore_index=True)\n",
    "    for t, c, p in zip(ts, cs, ps):\n",
    "        trans_data_df = trans_data_df.append(\n",
    "            {'initial': i, 'cost': c, 'perf': p},\n",
    "            ignore_index=True)"
   ]
  },
  {
   "cell_type": "code",
   "execution_count": 20,
   "metadata": {},
   "outputs": [],
   "source": [
    "def diff(x, t):\n",
    "    diff_idx = np.where(x != t)\n",
    "    diff_df = pd.DataFrame([x[diff_idx], t[diff_idx]],\n",
    "                           columns=df.columns[diff_idx])\n",
    "    return diff_df"
   ]
  },
  {
   "cell_type": "code",
   "execution_count": 21,
   "metadata": {},
   "outputs": [
    {
     "data": {
      "text/plain": [
       "[]"
      ]
     },
     "execution_count": 21,
     "metadata": {},
     "output_type": "execute_result"
    },
    {
     "data": {
      "image/png": "[encoded data removed]",
      "text/plain": [
       "<Figure size 432x288 with 1 Axes>"
      ]
     },
     "metadata": {},
     "output_type": "display_data"
    }
   ],
   "source": [
    "fig, ax = plt.subplots()\n",
    "sns.lineplot(\n",
    "    data=trans_data_df.sort_values('perf'),\n",
    "    x='cost', y='perf', hue='initial',\n",
    "    ci=None, legend=False, marker='o', markevery=1, alpha=.5,\n",
    "    ax=ax)\n",
    "\n",
    "ax.set_xticks([0, 1, 2, 3])\n",
    "ax.set_xlabel('Number of modified features')\n",
    "ax.set_ylabel('Average ' + performance_metric_fn.__doc__)\n",
    "\n",
    "plt.plot()"
   ]
  },
  {
   "cell_type": "code",
   "execution_count": 22,
   "metadata": {},
   "outputs": [
    {
     "data": {
      "text/plain": [
       "[]"
      ]
     },
     "execution_count": 22,
     "metadata": {},
     "output_type": "execute_result"
    },
    {
     "data": {
      "image/png": "[encoded data removed]",
      "text/plain": [
       "<Figure size 432x288 with 1 Axes>"
      ]
     },
     "metadata": {},
     "output_type": "display_data"
    }
   ],
   "source": [
    "fig, ax = plt.subplots()\n",
    "sns.lineplot(\n",
    "    data=trans_data_df.sort_values('perf'),\n",
    "    x='cost', y='perf', ci=99,\n",
    "    legend=False, marker='o', markevery=1, alpha=.5,\n",
    "    ax=ax)\n",
    "\n",
    "ax.set_xticks([0, 1, 2, 3])\n",
    "ax.set_xlabel('Number of modified features')\n",
    "ax.set_ylabel('Average ' + performance_metric_fn.__doc__)\n",
    "\n",
    "plt.plot()"
   ]
  },
  {
   "cell_type": "markdown",
   "metadata": {},
   "source": [
    "## Plot max-confidence ('best') adversarial examples\n",
    "\n",
    "That is, those adversarial examples that maximally increase the confidence of the classifier."
   ]
  },
  {
   "cell_type": "code",
   "execution_count": 23,
   "metadata": {},
   "outputs": [],
   "source": [
    "best_transformations = {}\n",
    "for i in transformations_by_idx.keys():\n",
    "    ts = transformations_by_idx[i]\n",
    "    if len(ts) > 0:\n",
    "        ps = performance_metric_fn(X[i], ts)\n",
    "        best_idx = max(range(len(ts)), key=lambda idx: ps[idx])\n",
    "        best_transformations[i] = ts[best_idx]"
   ]
  },
  {
   "cell_type": "code",
   "execution_count": 24,
   "metadata": {},
   "outputs": [
    {
     "data": {
      "application/vnd.jupyter.widget-view+json": {
       "model_id": "f8285b4e9c384e3c92d359fcaea8419d",
       "version_major": 2,
       "version_minor": 0
      },
      "text/plain": [
       "HBox(children=(IntProgress(value=0, max=180), HTML(value='')))"
      ]
     },
     "metadata": {},
     "output_type": "display_data"
    },
    {
     "name": "stdout",
     "output_type": "stream",
     "text": [
      "\n"
     ]
    }
   ],
   "source": [
    "best_trans_df = pd.DataFrame(columns=['initial', 'cost', 'perf'])\n",
    "for i, t in tqdm_notebook(best_transformations.items()):\n",
    "    c = cost_fn(X[i], [t])[0]\n",
    "    p = performance_metric_fn(X[i], [t])[0]\n",
    "    #best_trans_df = best_trans_df.append(\n",
    "    #    {'initial': i, 'cost': 0., 'perf': 0.}, ignore_index=True)\n",
    "    best_trans_df = best_trans_df.append(\n",
    "        {'initial': i, 'cost': c, 'perf': p}, ignore_index=True)"
   ]
  },
  {
   "cell_type": "code",
   "execution_count": 25,
   "metadata": {},
   "outputs": [
    {
     "data": {
      "text/plain": [
       "[]"
      ]
     },
     "execution_count": 25,
     "metadata": {},
     "output_type": "execute_result"
    },
    {
     "data": {
      "image/png": "[encoded data removed]",
      "text/plain": [
       "<Figure size 432x288 with 1 Axes>"
      ]
     },
     "metadata": {},
     "output_type": "display_data"
    }
   ],
   "source": [
    "fig, ax = plt.subplots()\n",
    "\n",
    "sns.stripplot(\n",
    "    data=best_trans_df.sort_values('perf'),\n",
    "    x='cost', y='perf',\n",
    "    alpha=.5, jitter=True,\n",
    ")\n",
    "\n",
    "ax.set_xticks([0, 1, 2, 3])\n",
    "ax.set_xlabel('Number of modified features')\n",
    "ax.set_ylabel('Max ' + performance_metric_fn.__doc__)\n",
    "\n",
    "plt.plot()"
   ]
  },
  {
   "cell_type": "code",
   "execution_count": 26,
   "metadata": {},
   "outputs": [
    {
     "data": {
      "text/plain": [
       "[]"
      ]
     },
     "execution_count": 26,
     "metadata": {},
     "output_type": "execute_result"
    },
    {
     "data": {
      "image/png": "[encoded data removed]",
      "text/plain": [
       "<Figure size 432x288 with 1 Axes>"
      ]
     },
     "metadata": {},
     "output_type": "display_data"
    }
   ],
   "source": [
    "fig, ax = plt.subplots()\n",
    "\n",
    "sns.boxplot(\n",
    "    data=best_trans_df.sort_values('perf'),\n",
    "    x='cost', y='perf'\n",
    ")\n",
    "\n",
    "ax.set_xticks([0, 1, 2])\n",
    "ax.set_xticklabels(['0', '1', '2'])\n",
    "ax.set_xlabel('Number of modified features')\n",
    "ax.set_yticks([0, 1, 2, 3, 4])\n",
    "ax.set_yticklabels(['0', '1', '2', '3', '4'])\n",
    "ax.set_ylabel('Max ' + performance_metric_fn.__doc__)\n",
    "ax.set_ylim(-0.5, 4.5)\n",
    "\n",
    "plt.plot()"
   ]
  },
  {
   "cell_type": "markdown",
   "metadata": {},
   "source": [
    "# Poisoning"
   ]
  },
  {
   "cell_type": "code",
   "execution_count": 27,
   "metadata": {},
   "outputs": [
    {
     "data": {
      "text/plain": [
       "Index(['Age_(18.999, 26.0]', 'Age_(26.0, 30.0]', 'Age_(30.0, 36.0]',\n",
       "       'Age_(36.0, 45.0]', 'Age_(45.0, 75.0]', 'Sex_female', 'Job_0', 'Job_1',\n",
       "       'Job_2', 'Job_3', 'Housing_free', 'Housing_own', 'Housing_rent',\n",
       "       'Saving accounts_little', 'Saving accounts_moderate',\n",
       "       'Saving accounts_quite rich', 'Saving accounts_rich',\n",
       "       'Checking account_little', 'Checking account_moderate',\n",
       "       'Checking account_rich', 'Credit amount_(249.999, 1262.0]',\n",
       "       'Credit amount_(1262.0, 1906.8]', 'Credit amount_(1906.8, 2852.4]',\n",
       "       'Credit amount_(2852.4, 4720.0]', 'Credit amount_(4720.0, 18424.0]',\n",
       "       'Duration_(3.999, 12.0]', 'Duration_(12.0, 15.0]',\n",
       "       'Duration_(15.0, 24.0]', 'Duration_(24.0, 30.0]',\n",
       "       'Duration_(30.0, 72.0]', 'Purpose_business', 'Purpose_car',\n",
       "       'Purpose_domestic appliances', 'Purpose_education',\n",
       "       'Purpose_furniture/equipment', 'Purpose_radio/TV', 'Purpose_repairs',\n",
       "       'Purpose_vacation/others', 'Risk_good'],\n",
       "      dtype='object')"
      ]
     },
     "execution_count": 27,
     "metadata": {},
     "output_type": "execute_result"
    }
   ],
   "source": [
    "df.columns"
   ]
  },
  {
   "cell_type": "code",
   "execution_count": 28,
   "metadata": {},
   "outputs": [
    {
     "data": {
      "text/plain": [
       "114"
      ]
     },
     "execution_count": 28,
     "metadata": {},
     "output_type": "execute_result"
    }
   ],
   "source": [
    "dis_group = (df['Checking account_little'] == 1) & (df['Saving accounts_little'] == 1) & (df['Risk_good'] == 0)\n",
    "sum(dis_group)"
   ]
  },
  {
   "cell_type": "code",
   "execution_count": 29,
   "metadata": {},
   "outputs": [
    {
     "data": {
      "text/plain": [
       "array([  4,  11,  13,  29,  44,  59,  76,  89, 120, 129, 131, 143, 155,\n",
       "       166, 170, 174, 203, 212, 227, 235, 242, 257, 268, 274, 289, 315,\n",
       "       321, 334, 335, 353, 359, 364, 368, 375, 416, 429, 446, 454, 457,\n",
       "       466, 471, 472, 475, 500, 504, 510, 521, 522, 528, 538, 545, 548,\n",
       "       552, 558, 561, 566, 569, 570, 585, 588, 589, 596, 624, 631, 639,\n",
       "       640, 649, 652, 668, 701, 711, 722, 727, 731, 747, 751, 759, 761,\n",
       "       766, 771, 789, 805, 812, 813, 814, 819, 822, 826, 831, 832, 835,\n",
       "       840, 849, 850, 853, 858, 862, 878, 885, 899, 900, 914, 917, 919,\n",
       "       922, 924, 925, 927, 951, 958, 972, 973, 983, 998])"
      ]
     },
     "execution_count": 29,
     "metadata": {},
     "output_type": "execute_result"
    }
   ],
   "source": [
    "np.where(dis_group)[0]"
   ]
  },
  {
   "cell_type": "markdown",
   "metadata": {},
   "source": [
    "Pick target: index #4"
   ]
  },
  {
   "cell_type": "code",
   "execution_count": 30,
   "metadata": {},
   "outputs": [
    {
     "data": {
      "text/plain": [
       "0.37389874307012216"
      ]
     },
     "execution_count": 30,
     "metadata": {},
     "output_type": "execute_result"
    }
   ],
   "source": [
    "target = 4\n",
    "initial_score = clf.predict_proba([X[target]])[0, 1]\n",
    "initial_score"
   ]
  },
  {
   "cell_type": "code",
   "execution_count": null,
   "metadata": {},
   "outputs": [
    {
     "data": {
      "application/vnd.jupyter.widget-view+json": {
       "model_id": "58b4792424344a67a7ab7e4aa4791382",
       "version_major": 2,
       "version_minor": 0
      },
      "text/plain": [
       "HBox(children=(IntProgress(value=0, max=1000), HTML(value='')))"
      ]
     },
     "metadata": {},
     "output_type": "display_data"
    },
    {
     "data": {
      "application/vnd.jupyter.widget-view+json": {
       "model_id": "fa6719dc509b4eba9968a37956512eb4",
       "version_major": 2,
       "version_minor": 0
      },
      "text/plain": [
       "HBox(children=(IntProgress(value=0, max=200), HTML(value='')))"
      ]
     },
     "metadata": {},
     "output_type": "display_data"
    },
    {
     "data": {
      "application/vnd.jupyter.widget-view+json": {
       "model_id": "2c6cb75dc58e4854939de13d1889e675",
       "version_major": 2,
       "version_minor": 0
      },
      "text/plain": [
       "HBox(children=(IntProgress(value=0, max=200), HTML(value='')))"
      ]
     },
     "metadata": {},
     "output_type": "display_data"
    },
    {
     "data": {
      "application/vnd.jupyter.widget-view+json": {
       "model_id": "ccd354a311f64335b7c93287466e33a6",
       "version_major": 2,
       "version_minor": 0
      },
      "text/plain": [
       "HBox(children=(IntProgress(value=0, max=200), HTML(value='')))"
      ]
     },
     "metadata": {},
     "output_type": "display_data"
    },
    {
     "data": {
      "application/vnd.jupyter.widget-view+json": {
       "model_id": "a3b46b67615e4fc18c8f6303b13fb833",
       "version_major": 2,
       "version_minor": 0
      },
      "text/plain": [
       "HBox(children=(IntProgress(value=0, max=200), HTML(value='')))"
      ]
     },
     "metadata": {},
     "output_type": "display_data"
    },
    {
     "data": {
      "application/vnd.jupyter.widget-view+json": {
       "model_id": "9500c899dc8b4751bad476bb19acc5ef",
       "version_major": 2,
       "version_minor": 0
      },
      "text/plain": [
       "HBox(children=(IntProgress(value=0, max=200), HTML(value='')))"
      ]
     },
     "metadata": {},
     "output_type": "display_data"
    },
    {
     "data": {
      "application/vnd.jupyter.widget-view+json": {
       "model_id": "7f9281389b9a4671ab94fe6ead0fe54f",
       "version_major": 2,
       "version_minor": 0
      },
      "text/plain": [
       "HBox(children=(IntProgress(value=0, max=200), HTML(value='')))"
      ]
     },
     "metadata": {},
     "output_type": "display_data"
    },
    {
     "data": {
      "application/vnd.jupyter.widget-view+json": {
       "model_id": "7261924cafac49f8ad37e2f2af72a0ea",
       "version_major": 2,
       "version_minor": 0
      },
      "text/plain": [
       "HBox(children=(IntProgress(value=0, max=200), HTML(value='')))"
      ]
     },
     "metadata": {},
     "output_type": "display_data"
    },
    {
     "data": {
      "application/vnd.jupyter.widget-view+json": {
       "model_id": "9603d3f3295243a98cdeac58ec01cf7b",
       "version_major": 2,
       "version_minor": 0
      },
      "text/plain": [
       "HBox(children=(IntProgress(value=0, max=200), HTML(value='')))"
      ]
     },
     "metadata": {},
     "output_type": "display_data"
    },
    {
     "data": {
      "application/vnd.jupyter.widget-view+json": {
       "model_id": "6fa1149c201e48389867d17002274158",
       "version_major": 2,
       "version_minor": 0
      },
      "text/plain": [
       "HBox(children=(IntProgress(value=0, max=200), HTML(value='')))"
      ]
     },
     "metadata": {},
     "output_type": "display_data"
    },
    {
     "data": {
      "application/vnd.jupyter.widget-view+json": {
       "model_id": "32ec8992c3764ae08fbfd678c0fdbb73",
       "version_major": 2,
       "version_minor": 0
      },
      "text/plain": [
       "HBox(children=(IntProgress(value=0, max=200), HTML(value='')))"
      ]
     },
     "metadata": {},
     "output_type": "display_data"
    },
    {
     "data": {
      "application/vnd.jupyter.widget-view+json": {
       "model_id": "e09b488e7c9a4bcb8b3a0e8382a33e4c",
       "version_major": 2,
       "version_minor": 0
      },
      "text/plain": [
       "HBox(children=(IntProgress(value=0, max=200), HTML(value='')))"
      ]
     },
     "metadata": {},
     "output_type": "display_data"
    }
   ],
   "source": [
    "target_scores_by_idx = {}\n",
    "transformations_by_idx = {}\n",
    "for i, x in enumerate(tqdm_notebook(X)):\n",
    "    if i == target: continue\n",
    "    transformations = generate_all_transformations(\n",
    "        x, transformation_kwargs=dict(decrease_amount=True))\n",
    "    transformations_by_idx[i] = transformations\n",
    "    current_scores_increase = []\n",
    "    target_scores_by_idx[i] = current_scores_increase\n",
    "    trans_iter = tqdm_notebook(transformations)\n",
    "    for j, t in enumerate(trans_iter):\n",
    "        X_train_adv = np.vstack([X_train, t])\n",
    "        y_train_adv = np.concatenate([y_train, [1]])\n",
    "        clf_adv = XGBClassifier().fit(X_train_adv, y_train_adv)\n",
    "        if clf_adv.predict([X[target]]) == [1]:\n",
    "            score_increase = clf_adv.predict_proba([X[target]])[0, 1] - initial_score\n",
    "            current_scores_increase.append(score_increase)\n",
    "            trans_iter.set_description('%+2.2f' % score_increase)"
   ]
  }
 ],
 "metadata": {
  "kernelspec": {
   "display_name": "Python 3",
   "language": "python",
   "name": "python3"
  },
  "language_info": {
   "codemirror_mode": {
    "name": "ipython",
    "version": 3
   },
   "file_extension": ".py",
   "mimetype": "text/x-python",
   "name": "python",
   "nbconvert_exporter": "python",
   "pygments_lexer": "ipython3",
   "version": "3.6.5"
  }
 },
 "nbformat": 4,
 "nbformat_minor": 2
}
