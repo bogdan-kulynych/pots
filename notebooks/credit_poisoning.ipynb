{
 "cells": [
  {
   "cell_type": "code",
   "execution_count": 1,
   "metadata": {},
   "outputs": [],
   "source": [
    "import sys\n",
    "sys.path.append('..')"
   ]
  },
  {
   "cell_type": "code",
   "execution_count": 2,
   "metadata": {},
   "outputs": [],
   "source": [
    "import os\n",
    "import pickle\n",
    "\n",
    "import tqdm\n",
    "import numpy as np\n",
    "import seaborn as sns\n",
    "import pandas as pd\n",
    "\n",
    "from matplotlib import pyplot as plt\n",
    "from sklearn.svm import SVC\n",
    "\n",
    "from src import credit_utils as cred\n",
    "\n",
    "import plot_params"
   ]
  },
  {
   "cell_type": "markdown",
   "metadata": {},
   "source": [
    "## Load simulation data"
   ]
  },
  {
   "cell_type": "code",
   "execution_count": 3,
   "metadata": {},
   "outputs": [],
   "source": [
    "DATA_BASE_PATH = '../out'\n",
    "REPORT_NAME_REGEX = 'group_poisoning'"
   ]
  },
  {
   "cell_type": "code",
   "execution_count": 4,
   "metadata": {},
   "outputs": [],
   "source": [
    "IMAGES_DIR = '../images'\n",
    "!mkdir -p {IMAGES_DIR}"
   ]
  },
  {
   "cell_type": "code",
   "execution_count": 5,
   "metadata": {},
   "outputs": [
    {
     "name": "stdout",
     "output_type": "stream",
     "text": [
      "Number of reports: 10\n"
     ]
    }
   ],
   "source": [
    "report_filenames = !ls {DATA_BASE_PATH} | grep {REPORT_NAME_REGEX}\n",
    "print('Number of reports:', len(report_filenames))"
   ]
  },
  {
   "cell_type": "code",
   "execution_count": 6,
   "metadata": {},
   "outputs": [],
   "source": [
    "report_paths = [os.path.join(DATA_BASE_PATH, name) for name in report_filenames]\n",
    "sim_datasets = []\n",
    "for report_path in report_paths:\n",
    "    with open(report_path, 'rb') as f:\n",
    "        cum_group_scores, cum_group_datasets = pickle.load(f)\n",
    "    sim_datasets.append(cum_group_datasets)    "
   ]
  },
  {
   "cell_type": "markdown",
   "metadata": {},
   "source": [
    "## Restore the poisoned models"
   ]
  },
  {
   "cell_type": "code",
   "execution_count": 7,
   "metadata": {},
   "outputs": [
    {
     "name": "stdout",
     "output_type": "stream",
     "text": [
      "Shape of X: (1000, 38). Shape of y: (1000,).\n",
      "Best score is: 74.22%. Best params is: {'C': 10, 'kernel': 'rbf'}.\n",
      "Test score is: 77.00%.\n"
     ]
    }
   ],
   "source": [
    "df, df_X, df_y = cred.load_dataframes('../data/german_credit_data.csv')\n",
    "X, y, X_train, y_train, X_test, y_test = cred.to_numpy_data(df_X, df_y)\n",
    "clf, svm_params = cred.train_model(X_train, y_train, X_test, y_test)"
   ]
  },
  {
   "cell_type": "code",
   "execution_count": 8,
   "metadata": {},
   "outputs": [
    {
     "data": {
      "application/vnd.jupyter.widget-view+json": {
       "model_id": "37ca425b6fce4aedafe6eb688844cefe",
       "version_major": 2,
       "version_minor": 0
      },
      "text/plain": [
       "HBox(children=(IntProgress(value=0, max=10), HTML(value='')))"
      ]
     },
     "metadata": {},
     "output_type": "display_data"
    },
    {
     "name": "stdout",
     "output_type": "stream",
     "text": [
      "\n"
     ]
    }
   ],
   "source": [
    "models_by_sim = []\n",
    "for sim in tqdm.tqdm_notebook(sim_datasets):\n",
    "    sim_models = []\n",
    "    for dataset in sim:\n",
    "        X_train_adv, y_train_adv = dataset\n",
    "        clf_poisoned = SVC(probability=True, **svm_params).fit(\n",
    "            X_train_adv, y_train_adv)\n",
    "        sim_models.append(clf_poisoned)\n",
    "    models_by_sim.append(sim_models)"
   ]
  },
  {
   "cell_type": "markdown",
   "metadata": {},
   "source": [
    "## Visualize the effects of poisoning"
   ]
  },
  {
   "cell_type": "code",
   "execution_count": 9,
   "metadata": {},
   "outputs": [],
   "source": [
    "sns.set(font_scale=1.4, style='white')"
   ]
  },
  {
   "cell_type": "code",
   "execution_count": 10,
   "metadata": {},
   "outputs": [],
   "source": [
    "def score(clf, group):\n",
    "    return np.mean(clf.predict(group) == 1)"
   ]
  },
  {
   "cell_type": "markdown",
   "metadata": {},
   "source": [
    "Target group"
   ]
  },
  {
   "cell_type": "code",
   "execution_count": 11,
   "metadata": {},
   "outputs": [
    {
     "name": "stdout",
     "output_type": "stream",
     "text": [
      "Size 22 / Acceptance rate: 0.0\n"
     ]
    }
   ],
   "source": [
    "target_group_sel = (df['Checking account_little'] == 1) & \\\n",
    "                   (df['Saving accounts_little'] == 1) & \\\n",
    "                   (df['Risk_good'] == 1) & \\\n",
    "                   (clf.predict(X) == 0).astype(bool)\n",
    "                    \n",
    "\n",
    "target_group = X[target_group_sel]\n",
    "print('Size', len(target_group), '/ Acceptance rate:', score(clf, target_group))"
   ]
  },
  {
   "cell_type": "markdown",
   "metadata": {},
   "source": [
    "Control group 0: everyone but the target group"
   ]
  },
  {
   "cell_type": "code",
   "execution_count": 12,
   "metadata": {},
   "outputs": [
    {
     "name": "stdout",
     "output_type": "stream",
     "text": [
      "Size 978 / Acceptance rate: 0.8384458077709611\n"
     ]
    }
   ],
   "source": [
    "control_group_0_sel = np.ones(len(X), dtype=bool) ^ target_group_sel\n",
    "control_group_0 = X[control_group_0_sel]\n",
    "print('Size', len(control_group_0), '/ Acceptance rate:', score(clf, control_group_0))"
   ]
  },
  {
   "cell_type": "code",
   "execution_count": 13,
   "metadata": {},
   "outputs": [
    {
     "data": {
      "application/vnd.jupyter.widget-view+json": {
       "model_id": "4e058afc3f984b0698d393109488d5fc",
       "version_major": 2,
       "version_minor": 0
      },
      "text/plain": [
       "HBox(children=(IntProgress(value=0, max=10), HTML(value='')))"
      ]
     },
     "metadata": {},
     "output_type": "display_data"
    },
    {
     "name": "stdout",
     "output_type": "stream",
     "text": [
      "\n"
     ]
    }
   ],
   "source": [
    "groups = {\n",
    "    'Target': target_group,\n",
    "    'Everyone else': control_group_0,\n",
    "}\n",
    "group_scores_df = pd.DataFrame(\n",
    "    columns=['sim', 'poison_size', 'Group', 'score_change'])\n",
    "\n",
    "for sim_num, sim_models in enumerate(tqdm.tqdm_notebook(models_by_sim)):\n",
    "    for poison_size, clf_adv in enumerate([clf] + sim_models):\n",
    "        for group_id, group in groups.items():\n",
    "            current_score_change = score(clf_adv, group) - score(clf, group)\n",
    "            group_scores_df = group_scores_df.append(\n",
    "                {'sim': sim_num,\n",
    "                 'poison_size': poison_size,\n",
    "                 'Group': group_id, # Need to capitalize the name for the plot.\n",
    "                 'score_change': current_score_change * 100},\n",
    "                ignore_index=True)\n",
    "\n",
    "group_scores_df.sim = group_scores_df.sim.astype(int)\n",
    "group_scores_df.poison_size = group_scores_df.poison_size.astype(int)"
   ]
  },
  {
   "cell_type": "code",
   "execution_count": 14,
   "metadata": {},
   "outputs": [
    {
     "name": "stderr",
     "output_type": "stream",
     "text": [
      "/home/bogdan/Workspace/padML-code/venv/lib/python3.6/site-packages/scipy/stats/stats.py:1713: FutureWarning: Using a non-tuple sequence for multidimensional indexing is deprecated; use `arr[tuple(seq)]` instead of `arr[seq]`. In the future this will be interpreted as an array index, `arr[np.array(seq)]`, which will result either in an error or a different result.\n",
      "  return np.add.reduce(sorted[indexer] * weights, axis=axis) / sumval\n"
     ]
    },
    {
     "data": {
      "image/png": "[encoded data removed]",
      "text/plain": [
       "<Figure size 432x288 with 1 Axes>"
      ]
     },
     "metadata": {},
     "output_type": "display_data"
    }
   ],
   "source": [
    "fig, ax = plt.subplots()\n",
    "\n",
    "sns.lineplot(data=group_scores_df,\n",
    "             x='poison_size', y='score_change', hue='Group',\n",
    "             ci=99, err_style='bars', ax=ax)\n",
    "\n",
    "ax.set_ylim(0, 40)\n",
    "ax.set_xlim(0, 5.25)\n",
    "ax.set_ylabel(\"Change in accept rates (pp)\")\n",
    "ax.set_xlabel(\"Number of poisoned applications\")\n",
    "ax.set_title(\"Poisoning effect across groups\")\n",
    "\n",
    "fig.tight_layout()\n",
    "plt.savefig(os.path.join(IMAGES_DIR, 'poisoning_comparison.pdf'))"
   ]
  },
  {
   "cell_type": "code",
   "execution_count": 15,
   "metadata": {},
   "outputs": [
    {
     "data": {
      "image/png": "[encoded data removed]",
      "text/plain": [
       "<Figure size 432x288 with 1 Axes>"
      ]
     },
     "metadata": {},
     "output_type": "display_data"
    }
   ],
   "source": [
    "fig, ax = plt.subplots()\n",
    "sns.lineplot(data=group_scores_df[group_scores_df.Group == 'Target'],\n",
    "             x='poison_size', y='score_change', hue='sim', ci=None, legend=False,\n",
    "             err_style='bars', ax=ax)\n",
    "\n",
    "ax.set_ylabel(\"Change in accept rates (pp)\")\n",
    "ax.set_xlabel(\"Number of poisoned applications\")\n",
    "ax.set_title('Effect on the target group')\n",
    "\n",
    "fig.tight_layout()\n",
    "plt.savefig(os.path.join(IMAGES_DIR, 'poisoning_trajectories.pdf'))"
   ]
  }
 ],
 "metadata": {
  "kernelspec": {
   "display_name": "Python 3",
   "language": "python",
   "name": "python3"
  },
  "language_info": {
   "codemirror_mode": {
    "name": "ipython",
    "version": 3
   },
   "file_extension": ".py",
   "mimetype": "text/x-python",
   "name": "python",
   "nbconvert_exporter": "python",
   "pygments_lexer": "ipython3",
   "version": "3.6.6"
  }
 },
 "nbformat": 4,
 "nbformat_minor": 2
}
