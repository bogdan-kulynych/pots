{
 "cells": [
  {
   "cell_type": "code",
   "execution_count": 23,
   "metadata": {},
   "outputs": [],
   "source": [
    "import sys\n",
    "sys.path.append('..')"
   ]
  },
  {
   "cell_type": "code",
   "execution_count": 38,
   "metadata": {},
   "outputs": [],
   "source": [
    "import os\n",
    "import pickle\n",
    "\n",
    "import tqdm\n",
    "import numpy as np\n",
    "import seaborn as sns\n",
    "import pandas as pd\n",
    "\n",
    "from matplotlib import pyplot as plt\n",
    "from sklearn.svm import SVC\n",
    "\n",
    "from src import credit_utils as cred"
   ]
  },
  {
   "cell_type": "markdown",
   "metadata": {},
   "source": [
    "## Load simulation data"
   ]
  },
  {
   "cell_type": "code",
   "execution_count": 18,
   "metadata": {},
   "outputs": [],
   "source": [
    "DATA_BASE_PATH = '../out'\n",
    "REPORT_NAME_REGEX = 'group_poisoning'"
   ]
  },
  {
   "cell_type": "code",
   "execution_count": 19,
   "metadata": {},
   "outputs": [
    {
     "name": "stdout",
     "output_type": "stream",
     "text": [
      "Number of reports: 30\n"
     ]
    }
   ],
   "source": [
    "report_filenames = !ls {DATA_BASE_PATH} | grep {REPORT_NAME_REGEX}\n",
    "print('Number of reports:', len(report_filenames))"
   ]
  },
  {
   "cell_type": "code",
   "execution_count": 21,
   "metadata": {},
   "outputs": [],
   "source": [
    "report_paths = [os.path.join(DATA_BASE_PATH, name) for name in report_filenames]\n",
    "sim_datasets = []\n",
    "for report_path in report_paths:\n",
    "    with open(report_path, 'rb') as f:\n",
    "        cum_group_scores, cum_group_datasets = pickle.load(f)\n",
    "    sim_datasets.append(cum_group_datasets)    "
   ]
  },
  {
   "cell_type": "markdown",
   "metadata": {},
   "source": [
    "## Restore the poisoned models"
   ]
  },
  {
   "cell_type": "code",
   "execution_count": 35,
   "metadata": {},
   "outputs": [
    {
     "name": "stdout",
     "output_type": "stream",
     "text": [
      "Shape of X: (1000, 38). Shape of y: (1000,).\n",
      "Best score is: 74.22%. Best params is: {'C': 10, 'kernel': 'rbf'}.\n",
      "Test score is: 77.00%.\n"
     ]
    }
   ],
   "source": [
    "df, df_X, df_y = cred.load_dataframes('../data/german_credit_data.csv')\n",
    "X, y, X_train, y_train, X_test, y_test = cred.to_numpy_data(df_X, df_y)\n",
    "clf, svm_params = cred.train_model(X_train, y_train, X_test, y_test)"
   ]
  },
  {
   "cell_type": "code",
   "execution_count": 71,
   "metadata": {},
   "outputs": [
    {
     "data": {
      "application/vnd.jupyter.widget-view+json": {
       "model_id": "9db742e2cabb44d3b45e8eedebad4d24",
       "version_major": 2,
       "version_minor": 0
      },
      "text/plain": [
       "HBox(children=(IntProgress(value=0, max=30), HTML(value='')))"
      ]
     },
     "metadata": {},
     "output_type": "display_data"
    }
   ],
   "source": [
    "models_by_sim = []\n",
    "for sim in tqdm.tqdm_notebook(sim_datasets):\n",
    "    sim_models = []\n",
    "    for dataset in sim:\n",
    "        X_train_adv, y_train_adv = dataset\n",
    "        clf_poisoned = SVC(probability=True, **svm_params).fit(\n",
    "            X_train_adv, y_train_adv)\n",
    "        sim_models.append(clf_poisoned)\n",
    "    models_by_sim.append(sim_models)"
   ]
  },
  {
   "cell_type": "markdown",
   "metadata": {},
   "source": [
    "## Visualize the effects of poisoning"
   ]
  },
  {
   "cell_type": "code",
   "execution_count": 105,
   "metadata": {},
   "outputs": [],
   "source": [
    "sns.set_context('paper')"
   ]
  },
  {
   "cell_type": "code",
   "execution_count": 64,
   "metadata": {},
   "outputs": [],
   "source": [
    "def score(clf, group):\n",
    "    return np.mean(clf.predict(group) == 1)"
   ]
  },
  {
   "cell_type": "code",
   "execution_count": 65,
   "metadata": {},
   "outputs": [
    {
     "data": {
      "text/plain": [
       "(114, 0.30701754385964913)"
      ]
     },
     "execution_count": 65,
     "metadata": {},
     "output_type": "execute_result"
    }
   ],
   "source": [
    "target_group_sel = (df['Checking account_little'] == 1) & \\\n",
    "                   (df['Saving accounts_little'] == 1) & \\\n",
    "                   (df['Risk_good'] == 0)\n",
    "\n",
    "target_group = X[target_group_sel]\n",
    "len(target_group), score(clf, target_group)"
   ]
  },
  {
   "cell_type": "code",
   "execution_count": 66,
   "metadata": {},
   "outputs": [
    {
     "data": {
      "text/plain": [
       "(886, 0.8860045146726863)"
      ]
     },
     "execution_count": 66,
     "metadata": {},
     "output_type": "execute_result"
    }
   ],
   "source": [
    "control_group_0_sel = np.ones(len(X), dtype=bool) ^ target_group_sel\n",
    "control_group_0 = X[control_group_0_sel]\n",
    "len(control_group_0), score(clf, control_group_0)"
   ]
  },
  {
   "cell_type": "code",
   "execution_count": 67,
   "metadata": {},
   "outputs": [
    {
     "data": {
      "text/plain": [
       "(164, 0.9329268292682927)"
      ]
     },
     "execution_count": 67,
     "metadata": {},
     "output_type": "execute_result"
    }
   ],
   "source": [
    "control_group_1_sel = (df['Checking account_moderate'] == 1) & \\\n",
    "                      (df['Risk_good'] == 1)\n",
    "control_group_1 = X[control_group_1_sel]\n",
    "len(control_group_1), score(clf, control_group_1)"
   ]
  },
  {
   "cell_type": "code",
   "execution_count": 95,
   "metadata": {},
   "outputs": [
    {
     "data": {
      "application/vnd.jupyter.widget-view+json": {
       "model_id": "ff0979ef1e924e019d717130e8e7ea9d",
       "version_major": 2,
       "version_minor": 0
      },
      "text/plain": [
       "HBox(children=(IntProgress(value=0, max=30), HTML(value='')))"
      ]
     },
     "metadata": {},
     "output_type": "display_data"
    }
   ],
   "source": [
    "groups = {\n",
    "    'Target': target_group,\n",
    "    'Everyone else': control_group_0,\n",
    "    # 'Moderate': control_group_1\n",
    "}\n",
    "group_scores_df = pd.DataFrame(\n",
    "    columns=['sim', 'poison_size', 'group', 'score'])\n",
    "\n",
    "for sim_num, sim_models in enumerate(tqdm.tqdm_notebook(models_by_sim)):\n",
    "    for poison_size, clf_adv in enumerate([clf] + sim_models):\n",
    "        for group_id, group in groups.items():\n",
    "            current_score = score(clf_adv, group)\n",
    "            group_scores_df = group_scores_df.append(\n",
    "                {'sim': sim_num,\n",
    "                 'poison_size': poison_size,\n",
    "                 'group': group_id,\n",
    "                 'score': current_score},\n",
    "                ignore_index=True)\n",
    "\n",
    "group_scores_df.sim = group_scores_df.sim.astype(int)\n",
    "group_scores_df.poison_size = group_scores_df.poison_size.astype(int)"
   ]
  },
  {
   "cell_type": "code",
   "execution_count": 107,
   "metadata": {},
   "outputs": [
    {
     "name": "stderr",
     "output_type": "stream",
     "text": [
      "/home/bogdan/Workspace/padML-code/venv/lib/python3.6/site-packages/scipy/stats/stats.py:1713: FutureWarning: Using a non-tuple sequence for multidimensional indexing is deprecated; use `arr[tuple(seq)]` instead of `arr[seq]`. In the future this will be interpreted as an array index, `arr[np.array(seq)]`, which will result either in an error or a different result.\n",
      "  return np.add.reduce(sorted[indexer] * weights, axis=axis) / sumval\n"
     ]
    },
    {
     "data": {
      "text/plain": [
       "[]"
      ]
     },
     "execution_count": 107,
     "metadata": {},
     "output_type": "execute_result"
    },
    {
     "data": {
      "image/png": "[encoded data removed]",
      "text/plain": [
       "<Figure size 432x288 with 1 Axes>"
      ]
     },
     "metadata": {},
     "output_type": "display_data"
    }
   ],
   "source": [
    "fig, ax = plt.subplots()\n",
    "sns.lineplot(data=group_scores_df,\n",
    "             x='poison_size', y='score', hue='group', ci=99,\n",
    "             err_style='bars', ax=ax)\n",
    "\n",
    "ax.set_ylim(0, 1)\n",
    "ax.set_ylabel(\"Credit 'accept' rate\")\n",
    "ax.set_xlabel(\"Size of the poisoning group\")\n",
    "\n",
    "plt.plot()"
   ]
  }
 ],
 "metadata": {
  "kernelspec": {
   "display_name": "Python 3",
   "language": "python",
   "name": "python3"
  },
  "language_info": {
   "codemirror_mode": {
    "name": "ipython",
    "version": 3
   },
   "file_extension": ".py",
   "mimetype": "text/x-python",
   "name": "python",
   "nbconvert_exporter": "python",
   "pygments_lexer": "ipython3",
   "version": "3.6.5"
  }
 },
 "nbformat": 4,
 "nbformat_minor": 2
}
